{
 "cells": [
  {
   "cell_type": "code",
   "execution_count": 3,
   "metadata": {},
   "outputs": [
    {
     "name": "stdout",
     "output_type": "stream",
     "text": [
      "Downloading http://fashion-mnist.s3-website.eu-central-1.amazonaws.com/train-images-idx3-ubyte.gz to C:\\Users\\paras/.pytorch/MNIST_data/FashionMNIST\\raw\\train-images-idx3-ubyte.gz\n"
     ]
    },
    {
     "name": "stderr",
     "output_type": "stream",
     "text": [
      "100%|█████████████████████████████████████████████████████████████████▉| 26378240/26421880 [01:13<00:00, 421055.68it/s]"
     ]
    },
    {
     "name": "stdout",
     "output_type": "stream",
     "text": [
      "Extracting C:\\Users\\paras/.pytorch/MNIST_data/FashionMNIST\\raw\\train-images-idx3-ubyte.gz\n",
      "Downloading http://fashion-mnist.s3-website.eu-central-1.amazonaws.com/train-labels-idx1-ubyte.gz to C:\\Users\\paras/.pytorch/MNIST_data/FashionMNIST\\raw\\train-labels-idx1-ubyte.gz\n"
     ]
    },
    {
     "name": "stderr",
     "output_type": "stream",
     "text": [
      "\n",
      "0it [00:00, ?it/s]\n",
      "  0%|                                                                                        | 0/29515 [00:00<?, ?it/s]\n",
      " 56%|███████████████████████████████████████▉                                | 16384/29515 [00:00<00:00, 100784.16it/s]\n",
      "32768it [00:00, 51578.67it/s]                                                                                          "
     ]
    },
    {
     "name": "stdout",
     "output_type": "stream",
     "text": [
      "Extracting C:\\Users\\paras/.pytorch/MNIST_data/FashionMNIST\\raw\\train-labels-idx1-ubyte.gz\n",
      "Downloading http://fashion-mnist.s3-website.eu-central-1.amazonaws.com/t10k-images-idx3-ubyte.gz to C:\\Users\\paras/.pytorch/MNIST_data/FashionMNIST\\raw\\t10k-images-idx3-ubyte.gz\n"
     ]
    },
    {
     "name": "stderr",
     "output_type": "stream",
     "text": [
      "\n",
      "0it [00:00, ?it/s]\n",
      "  0%|                                                                                      | 0/4422102 [00:00<?, ?it/s]\n",
      "  0%|▎                                                                     | 16384/4422102 [00:00<00:39, 110999.53it/s]\n",
      "  1%|▊                                                                     | 49152/4422102 [00:00<00:33, 129813.55it/s]\n",
      "  2%|█▋                                                                   | 106496/4422102 [00:00<00:26, 161670.16it/s]\n",
      "  4%|██▋                                                                  | 172032/4422102 [00:00<00:21, 198154.15it/s]\n",
      "  5%|███▋                                                                 | 237568/4422102 [00:01<00:17, 237366.40it/s]\n",
      "  7%|████▋                                                                | 303104/4422102 [00:01<00:14, 275193.40it/s]\n",
      "  8%|█████▊                                                               | 368640/4422102 [00:01<00:13, 306900.25it/s]\n",
      " 10%|██████▋                                                              | 425984/4422102 [00:01<00:12, 332078.30it/s]\n",
      " 11%|███████▋                                                             | 491520/4422102 [00:01<00:10, 357662.27it/s]\n",
      " 13%|████████▋                                                            | 557056/4422102 [00:01<00:10, 376175.04it/s]\n",
      " 14%|█████████▋                                                           | 622592/4422102 [00:01<00:09, 389675.90it/s]\n",
      " 16%|██████████▋                                                          | 688128/4422102 [00:02<00:09, 405271.05it/s]\n",
      " 17%|███████████▊                                                         | 753664/4422102 [00:02<00:08, 413021.21it/s]\n",
      " 19%|████████████▊                                                        | 819200/4422102 [00:02<00:08, 416238.79it/s]\n",
      " 20%|█████████████▋                                                       | 876544/4422102 [00:02<00:08, 411886.88it/s]\n",
      " 21%|██████████████▋                                                      | 942080/4422102 [00:02<00:08, 421831.95it/s]\n",
      " 23%|███████████████▍                                                    | 1007616/4422102 [00:02<00:08, 426577.30it/s]\n",
      " 24%|████████████████▌                                                   | 1073152/4422102 [00:03<00:07, 430356.88it/s]\n",
      " 26%|█████████████████▌                                                  | 1138688/4422102 [00:03<00:07, 434359.60it/s]\n",
      " 27%|██████████████████▎                                                 | 1187840/4422102 [00:03<00:07, 430796.64it/s]\n",
      " 28%|███████████████████                                                 | 1236992/4422102 [00:03<00:08, 397831.47it/s]\n",
      " 29%|███████████████████▉                                                | 1294336/4422102 [00:03<00:07, 431438.74it/s]\n",
      " 30%|████████████████████▋                                               | 1343488/4422102 [00:03<00:08, 367887.60it/s]\n",
      " 31%|█████████████████████▍                                              | 1392640/4422102 [00:03<00:09, 332833.82it/s]\n",
      " 33%|██████████████████████▍                                             | 1458176/4422102 [00:04<00:08, 359272.14it/s]\n",
      " 34%|███████████████████████▍                                            | 1523712/4422102 [00:04<00:07, 381087.41it/s]\n",
      " 36%|████████████████████████▍                                           | 1589248/4422102 [00:04<00:07, 398359.99it/s]\n",
      " 37%|█████████████████████████▍                                          | 1654784/4422102 [00:04<00:06, 410264.91it/s]\n",
      " 39%|██████████████████████████▍                                         | 1720320/4422102 [00:04<00:06, 419832.18it/s]\n",
      " 40%|███████████████████████████▎                                        | 1777664/4422102 [00:04<00:06, 410792.01it/s]\n",
      " 42%|████████████████████████████▎                                       | 1843200/4422102 [00:04<00:06, 419390.78it/s]\n",
      " 43%|█████████████████████████████▎                                      | 1908736/4422102 [00:05<00:05, 426139.39it/s]\n",
      " 44%|██████████████████████████████                                      | 1957888/4422102 [00:05<00:05, 443019.93it/s]\n",
      " 45%|██████████████████████████████▊                                     | 2007040/4422102 [00:05<00:05, 407056.00it/s]\n",
      " 46%|███████████████████████████████▌                                    | 2056192/4422102 [00:05<00:05, 402152.18it/s]\n",
      " 48%|████████████████████████████████▋                                   | 2121728/4422102 [00:05<00:05, 414590.52it/s]\n",
      " 49%|█████████████████████████████████▋                                  | 2187264/4422102 [00:05<00:05, 419797.94it/s]\n",
      " 51%|██████████████████████████████████▋                                 | 2252800/4422102 [00:05<00:05, 426731.08it/s]\n",
      " 52%|███████████████████████████████████▋                                | 2318336/4422102 [00:06<00:04, 432623.52it/s]\n",
      " 54%|████████████████████████████████████▋                               | 2383872/4422102 [00:06<00:04, 429137.07it/s]\n",
      " 55%|█████████████████████████████████████▋                              | 2449408/4422102 [00:06<00:04, 433488.23it/s]\n",
      " 57%|██████████████████████████████████████▌                             | 2506752/4422102 [00:06<00:04, 419895.36it/s]\n",
      " 58%|███████████████████████████████████████▍                            | 2564096/4422102 [00:06<00:04, 455778.54it/s]\n",
      " 59%|████████████████████████████████████████▎                           | 2621440/4422102 [00:06<00:04, 437223.18it/s]\n",
      " 61%|█████████████████████████████████████████▏                          | 2678784/4422102 [00:06<00:04, 420440.43it/s]\n",
      " 62%|██████████████████████████████████████████▏                         | 2744320/4422102 [00:07<00:03, 427241.80it/s]\n",
      " 63%|███████████████████████████████████████████                         | 2801664/4422102 [00:07<00:03, 462176.64it/s]\n",
      " 64%|███████████████████████████████████████████▊                        | 2850816/4422102 [00:07<00:03, 429116.63it/s]\n",
      " 66%|████████████████████████████████████████████▌                       | 2899968/4422102 [00:07<00:03, 416994.94it/s]\n",
      " 67%|█████████████████████████████████████████████▍                      | 2957312/4422102 [00:07<00:03, 417626.21it/s]\n",
      " 68%|██████████████████████████████████████████████▏                     | 3006464/4422102 [00:07<00:03, 435343.21it/s]\n",
      " 69%|███████████████████████████████████████████████▏                    | 3072000/4422102 [00:07<00:03, 435291.52it/s]\n",
      " 71%|████████████████████████████████████████████████                    | 3129344/4422102 [00:07<00:03, 414649.73it/s]\n",
      " 72%|█████████████████████████████████████████████████▏                  | 3194880/4422102 [00:08<00:02, 423039.01it/s]\n",
      " 74%|██████████████████████████████████████████████████▏                 | 3260416/4422102 [00:08<00:02, 428279.38it/s]\n",
      " 75%|███████████████████████████████████████████████████▏                | 3325952/4422102 [00:08<00:02, 432024.34it/s]\n",
      " 77%|████████████████████████████████████████████████████▏               | 3391488/4422102 [00:08<00:02, 435546.04it/s]\n",
      " 78%|█████████████████████████████████████████████████████▏              | 3457024/4422102 [00:08<00:02, 436585.99it/s]\n",
      " 80%|██████████████████████████████████████████████████████▏             | 3522560/4422102 [00:08<00:02, 410352.20it/s]\n",
      " 81%|███████████████████████████████████████████████████████▏            | 3588096/4422102 [00:09<00:02, 407683.28it/s]\n",
      " 82%|████████████████████████████████████████████████████████            | 3645440/4422102 [00:09<00:01, 401675.40it/s]\n",
      " 84%|█████████████████████████████████████████████████████████           | 3710976/4422102 [00:09<00:01, 413741.88it/s]\n",
      " 85%|██████████████████████████████████████████████████████████          | 3776512/4422102 [00:09<00:01, 416794.11it/s]\n",
      " 87%|███████████████████████████████████████████████████████████         | 3842048/4422102 [00:09<00:01, 419709.32it/s]\n",
      " 88%|████████████████████████████████████████████████████████████        | 3907584/4422102 [00:09<00:01, 414601.81it/s]\n",
      " 90%|█████████████████████████████████████████████████████████████       | 3973120/4422102 [00:09<00:01, 421332.25it/s]\n",
      " 91%|█████████████████████████████████████████████████████████████▉      | 4030464/4422102 [00:10<00:00, 431261.99it/s]\n"
     ]
    },
    {
     "name": "stderr",
     "output_type": "stream",
     "text": [
      " 93%|██████████████████████████████████████████████████████████████▉     | 4096000/4422102 [00:10<00:00, 434181.32it/s]\n",
      " 94%|███████████████████████████████████████████████████████████████▉    | 4161536/4422102 [00:10<00:00, 428002.52it/s]\n",
      " 96%|█████████████████████████████████████████████████████████████████   | 4227072/4422102 [00:10<00:00, 431727.20it/s]\n",
      " 97%|██████████████████████████████████████████████████████████████████  | 4292608/4422102 [00:10<00:00, 426299.31it/s]\n",
      " 99%|███████████████████████████████████████████████████████████████████ | 4358144/4422102 [00:10<00:00, 430628.42it/s]\n",
      "100%|███████████████████████████████████████████████████████████████████▉| 4415488/4422102 [00:10<00:00, 430172.85it/s]"
     ]
    },
    {
     "name": "stdout",
     "output_type": "stream",
     "text": [
      "Extracting C:\\Users\\paras/.pytorch/MNIST_data/FashionMNIST\\raw\\t10k-images-idx3-ubyte.gz\n",
      "Downloading http://fashion-mnist.s3-website.eu-central-1.amazonaws.com/t10k-labels-idx1-ubyte.gz to C:\\Users\\paras/.pytorch/MNIST_data/FashionMNIST\\raw\\t10k-labels-idx1-ubyte.gz\n"
     ]
    },
    {
     "name": "stderr",
     "output_type": "stream",
     "text": [
      "\n",
      "\n",
      "0it [00:00, ?it/s]\n",
      "\n",
      "  0%|                                                                                         | 0/5148 [00:00<?, ?it/s]\n",
      "\n",
      "8192it [00:00, 19985.07it/s]                                                                                           "
     ]
    },
    {
     "name": "stdout",
     "output_type": "stream",
     "text": [
      "Extracting C:\\Users\\paras/.pytorch/MNIST_data/FashionMNIST\\raw\\t10k-labels-idx1-ubyte.gz\n",
      "Processing...\n",
      "Done!\n",
      "Dataset FashionMNIST\n",
      "    Number of datapoints: 60000\n",
      "    Root location: C:\\Users\\paras/.pytorch/MNIST_data/\n",
      "    Split: Train\n",
      "<torch.utils.data.dataloader.DataLoader object at 0x0000014E8D03A048>\n"
     ]
    },
    {
     "name": "stderr",
     "output_type": "stream",
     "text": [
      "26427392it [01:30, 421055.68it/s]                                                                                      \n",
      "4423680it [00:24, 430172.85it/s]                                                                                       "
     ]
    }
   ],
   "source": [
    "import torch\n",
    "import torch.nn as nn\n",
    "import torch.nn.functional as F\n",
    "from torchvision import datasets, transforms\n",
    "# Define a transform to normalize the data\n",
    "transform = transforms.Compose([transforms.ToTensor(),\n",
    "                              transforms.Normalize((0.5,), (0.5,)),\n",
    "                              ])\n",
    "\n",
    "# Download and load the training data\n",
    "trainset = datasets.FashionMNIST('~/.pytorch/MNIST_data/', download=True, train=True, transform=transform)\n",
    "print(trainset)\n",
    "trainloader = torch.utils.data.DataLoader(trainset, batch_size=64, shuffle=True)\n",
    "print(trainloader)"
   ]
  },
  {
   "cell_type": "code",
   "execution_count": 4,
   "metadata": {},
   "outputs": [],
   "source": [
    "from torch import nn ,optim\n",
    "\n"
   ]
  },
  {
   "cell_type": "code",
   "execution_count": 8,
   "metadata": {},
   "outputs": [],
   "source": [
    "#defining neural network\n",
    "class Classifier(nn.Module):\n",
    "    def __init__(self):\n",
    "        super().__init__()\n",
    "        self.fc1 = nn.Linear(784, 256)\n",
    "        self.fc2 = nn.Linear(256, 128)\n",
    "        self.fc3 = nn.Linear(128, 64)\n",
    "        self.fc4 = nn.Linear(64, 10)\n",
    "        \n",
    "    def forward(self, x):\n",
    "        #make sure that input tensor is flattened\n",
    "        x = x.view(x.shape[0], -1)\n",
    "        \n",
    "        x = F.relu(self.fc1(x))\n",
    "        x = F.relu(self.fc2(x))\n",
    "        x = F.relu(self.fc3(x))\n",
    "        x = F.log_softmax(self.fc4(x), dim =1)\n",
    "        \n",
    "        return x\n",
    "    \n",
    "    \n",
    "        "
   ]
  },
  {
   "cell_type": "code",
   "execution_count": 9,
   "metadata": {},
   "outputs": [],
   "source": [
    "#create the network , define citerion\n",
    "model = Classifier()\n",
    "criterion = nn.NLLLoss()\n",
    "optimizer = optim.Adam(model.parameters(), lr =0.003)"
   ]
  },
  {
   "cell_type": "code",
   "execution_count": 31,
   "metadata": {},
   "outputs": [
    {
     "name": "stdout",
     "output_type": "stream",
     "text": [
      "taining loss: 65.50746143830102\n",
      "taining loss: 2.422406524483329\n",
      "taining loss: 2.4445949805570817\n",
      "taining loss: 2.4281945645427907\n",
      "taining loss: 2.412064458769776\n",
      "taining loss: 2084.7278038370077\n",
      "taining loss: 2.429720770829776\n",
      "taining loss: 2.4505284620500576\n",
      "taining loss: 2.468466620201241\n",
      "taining loss: 2.448731521045221\n",
      "taining loss: 2.469847318206006\n",
      "taining loss: 2.477873150727896\n",
      "taining loss: 2.4619541524061517\n",
      "taining loss: 2.4900400061597194\n",
      "taining loss: 2.462260070640141\n",
      "taining loss: 2.460896907838931\n",
      "taining loss: 2.4708237096444883\n",
      "taining loss: 2.4711137163613652\n",
      "taining loss: 2.5000229021633613\n",
      "taining loss: 2.4628415743171024\n",
      "taining loss: 2.5034236000544987\n",
      "taining loss: 2.457622132321665\n",
      "taining loss: 2.4706093995555887\n",
      "taining loss: 2.467916058578979\n",
      "taining loss: 2.474447557412739\n",
      "taining loss: 2.4760955231530324\n",
      "taining loss: 2.502512382545959\n",
      "taining loss: 2.527021366904285\n",
      "taining loss: 2.5156688237749436\n",
      "taining loss: 2.4990271787399423\n"
     ]
    }
   ],
   "source": [
    "#todo  train the network here\n",
    "epochs = 30\n",
    "\n",
    "for e in range(epochs):\n",
    "    running_loss = 0\n",
    "    for images, labels in trainloader:\n",
    "        output = model(images)\n",
    "        loss = criterion(output, labels)\n",
    "        loss.backward()\n",
    "        optimizer.step()\n",
    "        \n",
    "        running_loss += loss.item()\n",
    "    else:\n",
    "        print(f\"taining loss: {running_loss/len(trainloader)}\")\n",
    "        \n",
    "        "
   ]
  },
  {
   "cell_type": "code",
   "execution_count": 34,
   "metadata": {},
   "outputs": [
    {
     "data": {
      "image/png": "[encoded data removed]",
      "text/plain": [
       "<Figure size 432x648 with 2 Axes>"
      ]
     },
     "metadata": {
      "image/png": {
       "height": 206,
       "width": 423
      },
      "needs_background": "light"
     },
     "output_type": "display_data"
    }
   ],
   "source": [
    "%matplotlib inline\n",
    "%config InlineBackend.figure_format = 'retina'\n",
    "import hillo\n",
    "\n",
    "\n",
    "dataiter = iter(trainloader)\n",
    "images, labels = dataiter.next()\n",
    "img = images[63]\n",
    "\n",
    "# TODO: Calculate the class probabilities (softmax) for img \n",
    "ps = torch.exp(model(img))\n",
    "\n",
    "hillo.view_classify(img, ps, version='Fashion')"
   ]
  },
  {
   "cell_type": "code",
   "execution_count": null,
   "metadata": {},
   "outputs": [],
   "source": []
  }
 ],
 "metadata": {
  "kernelspec": {
   "display_name": "Python 3",
   "language": "python",
   "name": "python3"
  },
  "language_info": {
   "codemirror_mode": {
    "name": "ipython",
    "version": 3
   },
   "file_extension": ".py",
   "mimetype": "text/x-python",
   "name": "python",
   "nbconvert_exporter": "python",
   "pygments_lexer": "ipython3",
   "version": "3.7.3"
  }
 },
 "nbformat": 4,
 "nbformat_minor": 2
}
