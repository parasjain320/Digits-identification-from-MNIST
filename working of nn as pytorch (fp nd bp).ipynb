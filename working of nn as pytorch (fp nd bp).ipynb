{
 "cells": [
  {
   "cell_type": "code",
   "execution_count": 1,
   "metadata": {},
   "outputs": [
    {
     "name": "stdout",
     "output_type": "stream",
     "text": [
      "Dataset MNIST\n",
      "    Number of datapoints: 60000\n",
      "    Root location: C:\\Users\\paras/.pytorch/MNIST_data/\n",
      "    Split: Train\n",
      "<torch.utils.data.dataloader.DataLoader object at 0x000001B611C8B630>\n"
     ]
    }
   ],
   "source": [
    "import torch\n",
    "import torch.nn as nn\n",
    "import torch.nn.functional as F\n",
    "from torchvision import datasets, transforms\n",
    "# Define a transform to normalize the data\n",
    "transform = transforms.Compose([transforms.ToTensor(),\n",
    "                              transforms.Normalize((0.5,), (0.5,)),\n",
    "                              ])\n",
    "\n",
    "# Download and load the training data\n",
    "trainset = datasets.MNIST('~/.pytorch/MNIST_data/', download=True, train=True, transform=transform)\n",
    "print(trainset)\n",
    "trainloader = torch.utils.data.DataLoader(trainset, batch_size=64, shuffle=True)\n",
    "print(trainloader)"
   ]
  },
  {
   "cell_type": "code",
   "execution_count": 8,
   "metadata": {},
   "outputs": [
    {
     "name": "stdout",
     "output_type": "stream",
     "text": [
      "torch.Size([64, 1, 28, 28])\n",
      "torch.Size([64])\n",
      "torch.Size([64, 784])\n",
      "tensor(2.2974, grad_fn=<NllLossBackward>)\n"
     ]
    }
   ],
   "source": [
    "# 1 method using softmax \n",
    "#build a feedforward network\n",
    "model = nn.Sequential(nn.Linear(784, 128),\n",
    "                      nn.ReLU(),\n",
    "                      nn.Linear(128, 64),\n",
    "                      nn.ReLU(),\n",
    "                      nn.Linear(64, 10))\n",
    "\n",
    "#define the loss\n",
    "criterian = nn.CrossEntropyLoss()\n",
    "\n",
    "\n",
    "\n",
    "#Get our data\n",
    "images, labels = next(iter(trainloader)) #labels denote at which the image \n",
    "print(images.shape)\n",
    "print(labels.shape)\n",
    "\n",
    "#Flatten images\n",
    "images = images.view(images.shape[0], -1)  #changing the size of image ,image is in form [64 (images), 1[color], 784(28 *28)]\n",
    "print(images.shape)\n",
    "\n",
    "\n",
    "#forward pass, get our logits\n",
    "logits = model(images)\n",
    "\n",
    "#clculate the loss with logits nd labels\n",
    "loss = criterian(logits, labels)\n",
    "print(loss)\n",
    "\n",
    "\n",
    "                      "
   ]
  },
  {
   "cell_type": "code",
   "execution_count": 2,
   "metadata": {},
   "outputs": [],
   "source": [
    " # or 2 method using log softmax "
   ]
  },
  {
   "cell_type": "code",
   "execution_count": 4,
   "metadata": {},
   "outputs": [
    {
     "name": "stdout",
     "output_type": "stream",
     "text": [
      "torch.Size([64, 1, 28, 28])\n",
      "torch.Size([64])\n",
      "torch.Size([64, 784])\n",
      "tensor(2.2857, grad_fn=<NllLossBackward>)\n"
     ]
    }
   ],
   "source": [
    "model = nn.Sequential(nn.Linear(784, 128),\n",
    "                      nn.ReLU(),\n",
    "                      nn.Linear(128, 64),\n",
    "                      nn.ReLU(),\n",
    "                      nn.Linear(64, 10),\n",
    "                      nn.LogSoftmax(dim =1))\n",
    "#define the loss\n",
    "criterian = nn.NLLLoss()\n",
    "\n",
    "#Get our data\n",
    "images, labels = next(iter(trainloader)) #labels denote at which the image \n",
    "print(images.shape)\n",
    "print(labels.shape)\n",
    "\n",
    "#Flatten images\n",
    "images = images.view(images.shape[0], -1)  #changing the size of image ,image is in form [64 (images), 1[color], 784(28 *28)]\n",
    "print(images.shape)\n",
    "\n",
    "\n",
    "#forward pass, get our logits\n",
    "logps = model(images)\n",
    "\n",
    "#clculate the loss with logits nd labels\n",
    "loss = criterian(logps, labels)\n",
    "print(loss)"
   ]
  },
  {
   "cell_type": "code",
   "execution_count": 4,
   "metadata": {},
   "outputs": [
    {
     "name": "stdout",
     "output_type": "stream",
     "text": [
      "before backward pass: \n",
      "  None\n",
      "after backward pass: \n",
      " tensor([[ 1.9575e-03,  1.9575e-03,  1.9575e-03,  ...,  1.9575e-03,\n",
      "          1.9575e-03,  1.9575e-03],\n",
      "        [ 2.6624e-04,  2.6624e-04,  2.6624e-04,  ...,  2.6624e-04,\n",
      "          2.6624e-04,  2.6624e-04],\n",
      "        [ 0.0000e+00,  0.0000e+00,  0.0000e+00,  ...,  0.0000e+00,\n",
      "          0.0000e+00,  0.0000e+00],\n",
      "        ...,\n",
      "        [ 2.0136e-03,  2.0136e-03,  2.0136e-03,  ...,  2.0136e-03,\n",
      "          2.0136e-03,  2.0136e-03],\n",
      "        [ 2.4571e-03,  2.4571e-03,  2.4571e-03,  ...,  2.4571e-03,\n",
      "          2.4571e-03,  2.4571e-03],\n",
      "        [-6.1449e-05, -6.1449e-05, -6.1449e-05,  ..., -6.1449e-05,\n",
      "         -6.1449e-05, -6.1449e-05]])\n"
     ]
    }
   ],
   "source": [
    "#here we will do processo f bacpropagation\n",
    "print('before backward pass: \\n ', model[0].weight.grad)\n",
    "loss.backward()\n",
    "print('after backward pass: \\n', model[0].weight.grad)\n"
   ]
  },
  {
   "cell_type": "code",
   "execution_count": 2,
   "metadata": {},
   "outputs": [],
   "source": [
    "from torch import optim\n",
    "\n"
   ]
  },
  {
   "cell_type": "code",
   "execution_count": 3,
   "metadata": {},
   "outputs": [],
   "source": [
    "# method for training the model"
   ]
  },
  {
   "cell_type": "code",
   "execution_count": 4,
   "metadata": {},
   "outputs": [
    {
     "name": "stdout",
     "output_type": "stream",
     "text": [
      "taining loss: 1.8655547214977777\n",
      "taining loss: 0.811472352570308\n",
      "taining loss: 0.520600966108379\n",
      "taining loss: 0.43376977393812716\n",
      "taining loss: 0.39183713136705506\n"
     ]
    }
   ],
   "source": [
    "model = nn.Sequential(nn.Linear(784, 128),\n",
    "                      nn.ReLU(),\n",
    "                      nn.Linear(128, 64),\n",
    "                      nn.ReLU(),\n",
    "                      nn.Linear(64, 10),\n",
    "                      nn.LogSoftmax(dim =1))\n",
    "criterion = nn.NLLLoss()\n",
    "optimizer = optim.SGD(model.parameters(), lr = 0.003)\n",
    "\n",
    "epochs = 5   #for every pass we useas epoch\n",
    "for e in range(epochs):\n",
    "    runinng_loss = 0\n",
    "    for images, labels in trainloader:\n",
    "        #flatten MNIST images into 784 long vector\n",
    "        images = images.view(images.shape[0], -1) \n",
    "        \n",
    "        # TODO : training pass\n",
    "        optimizer.zero_grad()\n",
    "        \n",
    "        output = model.forward(images)\n",
    "        loss = criterion(output, labels)\n",
    "        loss.backward()\n",
    "        optimizer.step()\n",
    "        \n",
    "        runinng_loss += loss.item()\n",
    "    else:\n",
    "        print(f\"taining loss: {runinng_loss/len(trainloader)}\")\n",
    "        \n",
    "        "
   ]
  },
  {
   "cell_type": "code",
   "execution_count": 5,
   "metadata": {},
   "outputs": [
    {
     "data": {
      "image/png": "[encoded data removed]",
      "text/plain": [
       "<Figure size 432x648 with 2 Axes>"
      ]
     },
     "metadata": {
      "image/png": {
       "height": 226,
       "width": 423
      },
      "needs_background": "light"
     },
     "output_type": "display_data"
    }
   ],
   "source": [
    "%matplotlib inline\n",
    "%config InlineBackend.figure_format = 'retina'\n",
    "import hillo\n",
    "\n",
    "\n",
    "images, labels = next(iter(trainloader))\n",
    "\n",
    "img = images[63].view(1,784)\n",
    "#turn off gradient to sppped  up this part\n",
    "with torch.no_grad():\n",
    "    logits = model.forward(img)\n",
    "    \n",
    "ps = F.softmax(logits, dim= 1)\n",
    "hillo.view_classify(img.view(1,28,28), ps)"
   ]
  },
  {
   "cell_type": "code",
   "execution_count": null,
   "metadata": {},
   "outputs": [],
   "source": []
  }
 ],
 "metadata": {
  "kernelspec": {
   "display_name": "Python 3",
   "language": "python",
   "name": "python3"
  },
  "language_info": {
   "codemirror_mode": {
    "name": "ipython",
    "version": 3
   },
   "file_extension": ".py",
   "mimetype": "text/x-python",
   "name": "python",
   "nbconvert_exporter": "python",
   "pygments_lexer": "ipython3",
   "version": "3.7.3"
  }
 },
 "nbformat": 4,
 "nbformat_minor": 2
}
